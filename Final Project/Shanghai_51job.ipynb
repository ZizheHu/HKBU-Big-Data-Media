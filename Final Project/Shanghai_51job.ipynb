{
 "cells": [
  {
   "cell_type": "code",
   "execution_count": 1,
   "metadata": {},
   "outputs": [],
   "source": [
    "import requests\n",
    "from bs4 import BeautifulSoup\n",
    "import csv"
   ]
  },
  {
   "cell_type": "code",
   "execution_count": null,
   "metadata": {},
   "outputs": [
    {
     "name": "stdout",
     "output_type": "stream",
     "text": [
      "<Response [200]>\n"
     ]
    },
    {
     "name": "stderr",
     "output_type": "stream",
     "text": [
      "C:\\Users\\sfe_s\\Anaconda3\\lib\\site-packages\\bs4\\__init__.py:181: UserWarning: No parser was explicitly specified, so I'm using the best available HTML parser for this system (\"lxml\"). This usually isn't a problem, but if you run this code on another system, or in a different virtual environment, it may use a different parser and behave differently.\n",
      "\n",
      "The code that caused this warning is on line 193 of the file C:\\Users\\sfe_s\\Anaconda3\\lib\\runpy.py. To get rid of this warning, change code that looks like this:\n",
      "\n",
      " BeautifulSoup(YOUR_MARKUP})\n",
      "\n",
      "to this:\n",
      "\n",
      " BeautifulSoup(YOUR_MARKUP, \"lxml\")\n",
      "\n",
      "  markup_type=markup_type))\n"
     ]
    }
   ],
   "source": [
    "url=\"https://search.51job.com/list/020000,000000,0000,12%252C48%252C49%252C13,9,99,%2520-%25E5%25AE%259E%25E4%25B9%25A0,2,1.html?lang=c&stype=&postchannel=0000&workyear=01&cotype=99&degreefrom=99&jobterm=99&companysize=99&providesalary=99&lonlat=0%2C0&radius=-1&ord_field=0&confirmdate=9&fromType=&dibiaoid=0&address=&line=&specialarea=00&from=&welfare=\"\n",
    "r = requests.get(url)\n",
    "print(r)\n",
    "# r.text\n",
    "mypage=BeautifulSoup(r.text)\n",
    "r.encoding = 'gbk'"
   ]
  },
  {
   "cell_type": "code",
   "execution_count": null,
   "metadata": {
    "scrolled": false
   },
   "outputs": [],
   "source": [
    "urls=[]\n",
    "Total_position=[]\n",
    "Total_company=[]\n",
    "Total_salary=[]\n",
    "\n",
    "\n",
    "for i in range (0,71):\n",
    "    url='https://search.51job.com/list/020000,000000,0000,12%252C48%252C49%252C13,9,99,%2B-%25E5%25AE%259E%25E4%25B9%25A0,2,'+str(i+1)+'.html?lang=c&stype=1&postchannel=0000&workyear=01&cotype=99&degreefrom=99&jobterm=99&companysize=99&lonlat=0%2C0&radius=-1&ord_field=0&confirmdate=9&fromType=&dibiaoid=0&address=&line=&specialarea=00&from=&welfare='\n",
    "    urls.append(url)\n",
    "    \n",
    "    for url in urls:\n",
    "        r =requests.get(url)\n",
    "        r.encoding = 'gbk'\n",
    "        \n",
    "        mypage=BeautifulSoup(r.text,'lxml')\n",
    "    \n",
    "    positions=mypage.find_all('p',attrs={'class':'t1'})\n",
    "    position=positions[0]\n",
    "    for position in positions:\n",
    "        my_position=position.find('a').text.strip(' \\t\\n\\r')\n",
    "        Total_position.append(my_position)\n",
    "    \n",
    "    \n",
    "    companies=mypage.find_all('span',attrs={'class':'t2'})\n",
    "    company=companies[0]\n",
    "    for company in companies:\n",
    "        Total_company.append(company.text)\n",
    "  \n",
    "    salaries=mypage.find_all('span',attrs={'class':'t4'})\n",
    "    salary=salaries[0]\n",
    "    for salary in salaries:\n",
    "        Total_salary.append(salary.text)\n",
    "        \n",
    "Total_company=Total_company[1:]\n",
    "Total_salary=Total_salary[1:]\n",
    "    "
   ]
  },
  {
   "cell_type": "code",
   "execution_count": null,
   "metadata": {},
   "outputs": [],
   "source": [
    "final_salary=[]\n",
    "Total_salary\n",
    "for the_salary in Total_salary:\n",
    "    all_salary=the_salary#.split()\n",
    "    #print(all_salary)\n",
    "    \n",
    "    if all_salary[-3:] == '千/月':\n",
    "        salary=(all_salary[:-3])\n",
    "        salary = float(salary.split('-')[0]) * 1000\n",
    "        final_salary.append(salary)\n",
    "        #break\n",
    "    elif all_salary[-3:] == '万/月':\n",
    "        salary=(all_salary[:-3])\n",
    "        salary = float(salary.split('-')[0]) * 10000\n",
    "        final_salary.append(salary)\n",
    "    elif all_salary[-3:] == '万/年':\n",
    "        salary=(all_salary[:-3])\n",
    "        salary = float(salary.split('-')[0])/12*10000\n",
    "        final_salary.append(salary)\n",
    "    elif all_salary[-3:] == '元/天':\n",
    "        salary=(all_salary[:-3])\n",
    "        salary = float(salary.split('-')[0])*22\n",
    "        final_salary.append(salary)\n",
    "   \n",
    "    else:\n",
    "        salary = 0\n",
    "        final_salary.append(salary)\n"
   ]
  },
  {
   "cell_type": "code",
   "execution_count": null,
   "metadata": {},
   "outputs": [],
   "source": [
    "final_salary"
   ]
  },
  {
   "cell_type": "code",
   "execution_count": null,
   "metadata": {},
   "outputs": [],
   "source": []
  },
  {
   "cell_type": "code",
   "execution_count": null,
   "metadata": {},
   "outputs": [],
   "source": [
    "with open(\"Shanghai.csv\",'w',newline='') as f:\n",
    "    spamwriter = csv.writer(f)\n",
    "    spamwriter.writerows(Total_position)\n",
    "    "
   ]
  },
  {
   "cell_type": "code",
   "execution_count": null,
   "metadata": {},
   "outputs": [],
   "source": []
  },
  {
   "cell_type": "code",
   "execution_count": null,
   "metadata": {},
   "outputs": [],
   "source": []
  }
 ],
 "metadata": {
  "kernelspec": {
   "display_name": "Python 3",
   "language": "python",
   "name": "python3"
  },
  "language_info": {
   "codemirror_mode": {
    "name": "ipython",
    "version": 3
   },
   "file_extension": ".py",
   "mimetype": "text/x-python",
   "name": "python",
   "nbconvert_exporter": "python",
   "pygments_lexer": "ipython3",
   "version": "3.6.4"
  }
 },
 "nbformat": 4,
 "nbformat_minor": 2
}
